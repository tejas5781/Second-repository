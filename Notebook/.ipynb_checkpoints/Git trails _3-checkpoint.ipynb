{
 "cells": [
  {
   "cell_type": "markdown",
   "metadata": {},
   "source": [
    "# Demo model\n",
    "\n",
    "Preparing this notebook for the sole purpose of understanding the codes and function in much better way.\n",
    "#### TODO: \n",
    "- Validation is yet to be done.\n",
    " \n",
    "\n",
    "\n",
    "Update log:\n",
    "\n",
    "|Date  |Changes made (init)|Check   |Review  |\n",
    "|:--|:--|:--|:--|\n",
    "|24/09/20  | Created a duplicate notebook from Cambridgeshire and renamed it to Git trials_3    |   |   |"
   ]
  },
  {
   "cell_type": "code",
   "execution_count": null,
   "metadata": {
    "ExecuteTime": {
     "end_time": "2020-12-09T13:53:31.582850Z",
     "start_time": "2020-12-09T13:53:28.776107Z"
    }
   },
   "outputs": [],
   "source": [
    "import os\n",
    "import numpy as np\n",
    "import pandas as pd\n",
    "import matplotlib.pyplot as plt\n",
    "import ipywidgets as widgets\n",
    "\n",
    "from pywr.core import Model, Storage, AnnualVirtualStorage\n",
    "from pywr.recorders import *\n",
    "from pywr.notebook import PywrSchematic"
   ]
  },
  {
   "cell_type": "markdown",
   "metadata": {},
   "source": [
    "### Input data paths"
   ]
  },
  {
   "cell_type": "code",
   "execution_count": null,
   "metadata": {
    "ExecuteTime": {
     "end_time": "2020-12-09T13:56:36.946787Z",
     "start_time": "2020-12-09T13:56:36.939802Z"
    }
   },
   "outputs": [],
   "source": [
    "os.chdir(\"../submodels\")\n",
    "model_path = r\"../models/cambridgeshire-historic.json\"\n",
    "# aquator_data_path = \"../data/WRE2019/Alton/ALTLOSAD.csv\"  # Old Data for Aton storage\n",
    "aquator_data_path = \"../data/WRE2024/AWS data/Alton-submodel_DO Run Pass.csv\"\n",
    "\n",
    "base_filename = \"Alton\"\n",
    "position_filename = f\"{base_filename}_positions\""
   ]
  },
  {
   "cell_type": "code",
   "execution_count": null,
   "metadata": {
    "ExecuteTime": {
     "end_time": "2020-12-09T13:56:54.566735Z",
     "start_time": "2020-12-09T13:56:54.532920Z"
    }
   },
   "outputs": [],
   "source": [
    "model = Model.load(model_path)"
   ]
  },
  {
   "cell_type": "markdown",
   "metadata": {},
   "source": [
    "### Plot model schematics"
   ]
  },
  {
   "cell_type": "code",
   "execution_count": null,
   "metadata": {
    "ExecuteTime": {
     "end_time": "2020-12-09T13:56:55.919786Z",
     "start_time": "2020-12-09T13:56:55.910760Z"
    },
    "scrolled": false
   },
   "outputs": [],
   "source": [
    "# Include attribute=True parameter if you want to see more information of selected component(on the graph)\n",
    "schematic = PywrSchematic(model_path, width=800, height=600, labels=True, attributes=1) \n",
    "schematic.draw_graph()"
   ]
  },
  {
   "cell_type": "markdown",
   "metadata": {},
   "source": [
    "#### Schematic Map WRE2024"
   ]
  },
  {
   "cell_type": "markdown",
   "metadata": {},
   "source": [
    "<img src=\"../data/Alton-East Suffolk_Aquator-schematics.png\" width=\"800\" height=\"500\">"
   ]
  },
  {
   "cell_type": "markdown",
   "metadata": {},
   "source": [
    "### Save Schematics"
   ]
  },
  {
   "cell_type": "code",
   "execution_count": null,
   "metadata": {},
   "outputs": [],
   "source": [
    "schematic.save_graph(f\"{position_filename}.json\", filetype=\"json\") "
   ]
  },
  {
   "cell_type": "markdown",
   "metadata": {},
   "source": [
    "### Load Aqautor data (2019 data)"
   ]
  },
  {
   "cell_type": "code",
   "execution_count": null,
   "metadata": {
    "scrolled": true
   },
   "outputs": [],
   "source": [
    "#load data to validate against - new aquator outputs required\n",
    "# aquator_df = pd.read_csv(aquator_data_path,dayfirst=True, parse_dates=True, usecols=[0, 4], index_col=0)\n",
    "# aquator_df.columns = ['Alton storage'] # renaming \"Volume\" column from csv-file to \"Alton storage\". \n",
    "# aquator_df.head() "
   ]
  },
  {
   "cell_type": "markdown",
   "metadata": {},
   "source": [
    "###  Load Aqautor data (2024 data)"
   ]
  },
  {
   "cell_type": "code",
   "execution_count": null,
   "metadata": {
    "scrolled": true
   },
   "outputs": [],
   "source": [
    "# Load 2024 Data:\n",
    "# new_aquator_df = pd.read_csv(new_aquator_data_path, parse_dates=True, dayfirst=True, usecols=['Date', 'RV9.Storage.Calculated'], index_col=0)\n",
    "aquator_df = pd.read_csv(aquator_data_path, parse_dates=True, dayfirst=True, index_col=0)\n",
    "aquator_df.head()"
   ]
  },
  {
   "cell_type": "markdown",
   "metadata": {},
   "source": [
    "### Setup node mapping"
   ]
  },
  {
   "cell_type": "code",
   "execution_count": null,
   "metadata": {},
   "outputs": [],
   "source": [
    "# Example for node mapping:\n",
    "### key   -> Name of node in Pywr-model   => \"Alton Reservoir\"\n",
    "### value -> Volume-column from .csv-file => \"RV9.Storage.Calculated\"\n",
    "\n",
    "node_mapping = {\n",
    "    # storage\n",
    "    \"Alton Reservoir\": \"RV9.Storage.Calculated\",\n",
    "    \n",
    "    # abstraction\n",
    "    \"Sproughton Abstraction\": \"AB18.Supply.Total amount\",\n",
    "    \"Bucklesham Abstraction\": \"AB19.Supply.Total amount\",\n",
    "    \n",
    "    # gauges\n",
    "    \"Mill River HOF\": \"GS10.Flow.Net\",\n",
    "    \"River Gipping HOF\": \"GS9.Flow.Net\"\n",
    "}"
   ]
  },
  {
   "cell_type": "markdown",
   "metadata": {},
   "source": [
    "### Setup and run model"
   ]
  },
  {
   "cell_type": "code",
   "execution_count": null,
   "metadata": {
    "scrolled": false
   },
   "outputs": [],
   "source": [
    "model.run()"
   ]
  },
  {
   "cell_type": "markdown",
   "metadata": {},
   "source": [
    "### Setup visualisation functions"
   ]
  },
  {
   "cell_type": "markdown",
   "metadata": {},
   "source": [
    "##### Timesteper Widget"
   ]
  },
  {
   "cell_type": "code",
   "execution_count": null,
   "metadata": {},
   "outputs": [],
   "source": [
    "start_date = model.timestepper.start\n",
    "end_date = model.timestepper.end\n",
    "\n",
    "dates = pd.date_range(start_date, end_date, freq='D')\n",
    "\n",
    "# options = [(date.strftime(' %d-%m-%Y '), date) for date in dates]\n",
    "options = [f'{date: %d-%m-%Y }' for date in dates]\n",
    "index = (0, len(options)-1)\n",
    "\n",
    "dates_slider = widgets.SelectionRangeSlider(\n",
    "    options=options,\n",
    "    index=index,\n",
    "    orientation='horizontal',\n",
    "    layout={'width': '800px'}\n",
    ")\n",
    "\n",
    "dates_slider"
   ]
  },
  {
   "cell_type": "markdown",
   "metadata": {},
   "source": [
    "##### Plot Function"
   ]
  },
  {
   "cell_type": "code",
   "execution_count": null,
   "metadata": {},
   "outputs": [],
   "source": [
    "# Need if statement for if only one reservoir/recorder node of interest\n",
    "\n",
    "def plot_nodes(nodes, pwr_model, dataframe):\n",
    "    \"\"\"\n",
    "    Parameters:\n",
    "    -----------\n",
    "    nodes: list \n",
    "        List of node names from Pywr-model, choosen for validation against Aquator data.\n",
    "   \n",
    "    pwr_model: pywr.core.Model instance\n",
    "        \n",
    "    dataframe: DataFrame \n",
    "        Data from Aquator runs dataset (csv or Excel file)\n",
    "    \n",
    "    Returns: plot differences\n",
    "    \n",
    "    \"\"\"\n",
    "    # frame-objects for plots\n",
    "    fig, axarr = plt.subplots(figsize=(16, 5 * len(nodes)), nrows=len(nodes), ncols=2)\n",
    "    \n",
    "    start, end = dates_slider.value\n",
    "    \n",
    "    for (ax1, ax2), node in zip(axarr, nodes):\n",
    "        \n",
    "        # Get Pywr node data from recorder\n",
    "        df = pwr_model.recorders[node].to_dataframe().loc[start:end,:]\n",
    "        \n",
    "        # Get Aquator node data from DataFrame\n",
    "        aq_name = node_mapping[node]                 # Name of node-column from AQ-dataframe\n",
    "        aq_vals = dataframe[aq_name][start:end]     # Data from new 2024 AQ-dataframe\n",
    "\n",
    "        \n",
    "        # Plot - Coupled data\n",
    "        df.plot(ax=ax1, label=\"Pywr\")\n",
    "        aq_vals.plot(ax=ax1, label=\"Aquator\")\n",
    "        ax1.set_title(node)\n",
    "        ax1.legend()\n",
    "        ax1.grid(True, linestyle=\"--\")\n",
    "        ax1.set_xlabel(\"\")\n",
    "        \n",
    "        # Plot - Differcences\n",
    "        diff = df.subtract(aq_vals.values, axis=0)\n",
    "        diff.plot(ax=ax2, legend=False)\n",
    "        ax2.set_title(\"Difference\")\n",
    "        ax2.grid(True, linestyle=\"--\")     "
   ]
  },
  {
   "cell_type": "markdown",
   "metadata": {},
   "source": [
    "## Validation "
   ]
  },
  {
   "cell_type": "markdown",
   "metadata": {},
   "source": [
    "### Reservoirs"
   ]
  },
  {
   "cell_type": "code",
   "execution_count": null,
   "metadata": {
    "scrolled": false
   },
   "outputs": [],
   "source": [
    "# Plot Diffrences from Pywr-model & Aquator-run data\n",
    "res_list = [\"Alton Reservoir\", \"Alton Reservoir\"]\n",
    "plot_nodes(res_list, model, aquator_df)"
   ]
  },
  {
   "cell_type": "markdown",
   "metadata": {},
   "source": [
    "### Demand"
   ]
  },
  {
   "cell_type": "code",
   "execution_count": null,
   "metadata": {},
   "outputs": [],
   "source": [
    "# TODO"
   ]
  },
  {
   "cell_type": "markdown",
   "metadata": {},
   "source": [
    "### Abstractions"
   ]
  },
  {
   "cell_type": "code",
   "execution_count": null,
   "metadata": {},
   "outputs": [],
   "source": [
    "res_list = [\"Sproughton Abstraction\", \"Bucklesham Abstraction\"]\n",
    "plot_nodes(res_list, model, aquator_df)"
   ]
  },
  {
   "cell_type": "markdown",
   "metadata": {},
   "source": [
    "### Gauges"
   ]
  },
  {
   "cell_type": "code",
   "execution_count": null,
   "metadata": {},
   "outputs": [],
   "source": [
    "res_list = [\"Mill River HOF\", \"River Gipping HOF\"]\n",
    "plot_nodes(res_list, model, aquator_df)"
   ]
  },
  {
   "cell_type": "markdown",
   "metadata": {},
   "source": [
    "#  Weekly timestep"
   ]
  },
  {
   "cell_type": "code",
   "execution_count": null,
   "metadata": {},
   "outputs": [],
   "source": [
    "import json\n",
    "\n",
    "with open(model_path) as f:\n",
    "    model_data_weekly = json.load(f)\n",
    "\n",
    "model_data_weekly[\"timestepper\"][\"timestep\"] = 7\n",
    "\n",
    "model_weekly = Model.load(model_data_weekly)"
   ]
  },
  {
   "cell_type": "markdown",
   "metadata": {},
   "source": [
    "### Group Aquator data "
   ]
  },
  {
   "cell_type": "code",
   "execution_count": null,
   "metadata": {},
   "outputs": [],
   "source": [
    "aquator_df_weekly = aquator_df.groupby(pd.Grouper(freq='7D')).mean()"
   ]
  },
  {
   "cell_type": "markdown",
   "metadata": {},
   "source": [
    "### Set up and run model\n"
   ]
  },
  {
   "cell_type": "code",
   "execution_count": null,
   "metadata": {},
   "outputs": [],
   "source": [
    "# adds recorders for each node before running model (easier than adding into json)\n",
    "\n",
    "# array_recorders = {}\n",
    "\n",
    "# for node in model_weekly.nodes:\n",
    "#     if isinstance(node, (Storage, AnnualVirtualStorage)):\n",
    "#         r = NumpyArrayStorageRecorder(model_weekly, node, name=node.name)\n",
    "#     else:\n",
    "#         r = NumpyArrayNodeRecorder(model_weekly, node, name=node.name)\n",
    "\n",
    "#     array_recorders[node.name] = r"
   ]
  },
  {
   "cell_type": "code",
   "execution_count": null,
   "metadata": {},
   "outputs": [],
   "source": [
    "model_weekly.timestepper"
   ]
  },
  {
   "cell_type": "code",
   "execution_count": null,
   "metadata": {},
   "outputs": [],
   "source": [
    "model_weekly.run()"
   ]
  },
  {
   "cell_type": "markdown",
   "metadata": {},
   "source": [
    "### Setup weekly date widget"
   ]
  },
  {
   "cell_type": "code",
   "execution_count": null,
   "metadata": {},
   "outputs": [],
   "source": [
    "start_date = model_weekly.timestepper.start\n",
    "end_date = model_weekly.timestepper.end\n",
    "\n",
    "dates = pd.date_range(start_date, end_date, freq='D')\n",
    "\n",
    "options = [(date.strftime(' %d-%m-%Y '), date) for date in dates]\n",
    "index = (0, len(options)-1)\n",
    "\n",
    "dates_slider = widgets.SelectionRangeSlider(\n",
    "    options=options,\n",
    "    index=index,\n",
    "    orientation='horizontal',\n",
    "    layout={'width': '800px'}\n",
    ")\n",
    "\n",
    "dates_slider"
   ]
  },
  {
   "cell_type": "markdown",
   "metadata": {},
   "source": [
    "## Validation"
   ]
  },
  {
   "cell_type": "markdown",
   "metadata": {},
   "source": [
    "### Reservoirs"
   ]
  },
  {
   "cell_type": "code",
   "execution_count": null,
   "metadata": {},
   "outputs": [],
   "source": [
    "res_list = [\"Alton Reservoir\", \"Alton Reservoir\"]\n",
    "plot_nodes(res_list, model_weekly, aquator_df_weekly)"
   ]
  },
  {
   "cell_type": "markdown",
   "metadata": {},
   "source": [
    "### Abstractions"
   ]
  },
  {
   "cell_type": "code",
   "execution_count": null,
   "metadata": {},
   "outputs": [],
   "source": [
    "res_list = [\"Sproughton Abstraction\", \"Bucklesham Abstraction\"]\n",
    "plot_nodes(res_list, model_weekly, aquator_df_weekly)"
   ]
  },
  {
   "cell_type": "markdown",
   "metadata": {},
   "source": [
    "### Gauges"
   ]
  },
  {
   "cell_type": "code",
   "execution_count": null,
   "metadata": {},
   "outputs": [],
   "source": [
    "res_list = [\"Mill River HOF\", \"River Gipping HOF\"]\n",
    "plot_nodes(res_list, model_weekly, aquator_df_weekly)"
   ]
  },
  {
   "cell_type": "code",
   "execution_count": null,
   "metadata": {},
   "outputs": [],
   "source": []
  }
 ],
 "metadata": {
  "kernelspec": {
   "display_name": "Python 3",
   "language": "python",
   "name": "python3"
  },
  "language_info": {
   "codemirror_mode": {
    "name": "ipython",
    "version": 3
   },
   "file_extension": ".py",
   "mimetype": "text/x-python",
   "name": "python",
   "nbconvert_exporter": "python",
   "pygments_lexer": "ipython3",
   "version": "3.8.5"
  },
  "toc": {
   "base_numbering": 1,
   "nav_menu": {},
   "number_sections": true,
   "sideBar": true,
   "skip_h1_title": false,
   "title_cell": "Table of Contents",
   "title_sidebar": "Contents",
   "toc_cell": false,
   "toc_position": {},
   "toc_section_display": true,
   "toc_window_display": false
  }
 },
 "nbformat": 4,
 "nbformat_minor": 4
}
